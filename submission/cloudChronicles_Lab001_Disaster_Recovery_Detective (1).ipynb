{
  "cells": [
    {
      "cell_type": "markdown",
      "id": "0f1e0979",
      "metadata": {
        "id": "0f1e0979"
      },
      "source": [
        "# 🧠 cloudChronicles Lab #001: Disaster Recovery Detective\n",
        "\n",
        "**Lab Type:** Idea  \n",
        "**Estimated Time:** 30–45 mins  \n",
        "**Skill Level:** Beginner"
      ]
    },
    {
      "cell_type": "code",
      "execution_count": null,
      "id": "a97f86ab",
      "metadata": {
        "id": "a97f86ab"
      },
      "outputs": [],
      "source": [
        "# Let's begin by printing your name to personalize the notebook\n",
        "your_name = \"\"\n",
        "print(f\"Welcome to the lab, {your_name}!\")"
      ]
    },
    {
      "cell_type": "markdown",
      "id": "0f94d019",
      "metadata": {
        "id": "0f94d019"
      },
      "source": [
        "## 🔍 STAR Method Lab Prompt\n",
        "\n",
        "**Situation:**  \n",
        "[Define your scenario here.]\n",
        "\n",
        "**Task:**  \n",
        "[Define what the user is expected to solve.]\n",
        "\n",
        "**Action:**  \n",
        "[Step-by-step instructions using GCP tools.]\n",
        "\n",
        "**Expected Result:**  \n",
        "[A defined deliverable such as a DR plan, diagram, MVP, etc.]"
      ]
    },
    {
      "cell_type": "markdown",
      "id": "397b221d",
      "metadata": {
        "id": "397b221d"
      },
      "source": [
        "## ✍️ Your Assignment\n",
        "\n",
        "_Use this section to complete your deliverable:_\n",
        "\n",
        "```markdown\n",
        "(Example Format)\n",
        "\n",
        "- **Primary Region**: us-central1  \n",
        "- **Backup Location**: us-east1  \n",
        "- **Failover Trigger**: Load balancer health check + Pub/Sub alert  \n",
        "- **Redundancy Services**:  \n",
        "   - Cloud SQL with failover  \n",
        "   - Cloud Storage versioning  \n",
        "   - Cloud Functions for health monitoring  \n",
        "- **Backup Schedule**: Every 6 hours, daily export to multi-region bucket  \n",
        "```"
      ]
    },
    {
      "cell_type": "markdown",
      "source": [
        "Situation\n",
        "A major Google Cloud outage has occurred in the us-central1 region. Our primary services, including our critical database and data storage, are impacted, leading to service disruption for our users.\n",
        "\n",
        "Task\n",
        "Our task is to quickly fail over our critical services to our disaster recovery site in Berlin (europe-west1) to restore operations with minimal data loss and downtime, and then prepare for full recovery.\n",
        "\n",
        "Action\n",
        "Here's how we'll perform the failover and recovery:\n",
        "\n",
        "1. Data and Database Replication (Pre-Outage Setup):\n",
        "\n",
        "Cloud SQL Replicas: We've already set up a cross-region read replica of our us-central1 Cloud SQL primary database in europe-west1. This replica is continuously syncing data, ensuring we have a recent copy. We've also enabled Point-in-Time Recovery for granular recovery options.\n",
        "\n",
        "Multi-Region Cloud Storage: Our critical data in Cloud Storage is stored in a multi-region bucket with EUROPE as its location. This automatically replicates our data across multiple regions within Europe, including europe-west1. This ensures data availability even if a single region fails.\n",
        "\n",
        "2. Outage Detection and Alerting:\n",
        "\n",
        "Pub/Sub Alerts: We have Cloud Monitoring alerts configured to detect issues in us-central1, such as high error rates, latency spikes, or service unavailability. These alerts trigger Pub/Sub messages to a dedicated topic.\n",
        "\n",
        "Automated Notification: Subscribers to this Pub/Sub topic (e.g., Slack, PagerDuty, or a custom application) immediately notify our on-call team about the us-central1 outage.\n",
        "\n",
        "3. Failover Process (During Outage):\n",
        "\n",
        "Verify Outage: The on-call team confirms the us-central1 outage via Google Cloud's status dashboard and internal monitoring.\n",
        "\n",
        "Promote Cloud SQL Replica: We'll initiate the failover by promoting the europe-west1 Cloud SQL read replica to become the new primary instance. This is a manual, controlled action to ensure data consistency.\n",
        "\n",
        "Application Reconfiguration: Our applications are configured to dynamically discover database endpoints (e.g., via Cloud DNS or a configuration service). Upon promotion of the europe-west1 replica, applications automatically or manually update their connection strings to point to the new primary in Berlin.\n",
        "\n",
        "Load Balancer Rerouting: If using a Global External Load Balancer for our application frontend, traffic will be automatically redirected to our healthy application instances in europe-west1 (assuming we have instances deployed there, perhaps in an active-passive or active-active setup).\n",
        "\n",
        "Cloud Storage Access: Applications in Berlin will seamlessly continue to access data from the multi-region Cloud Storage bucket, as it's already available across European regions.\n",
        "\n",
        "4. Recovery Process (Post-Outage):\n",
        "\n",
        "Assess us-central1 Recovery: Once us-central1 services are restored by Google Cloud, we'll assess its stability and data consistency.\n",
        "\n",
        "Establish New Replication: We'll create a new read replica in us-central1 from our now-primary database in europe-west1. This will re-establish data replication back to the original region.\n",
        "\n",
        "Planned Failback (Optional): After the new replica in us-central1 is fully caught up and stable, we'll plan a controlled failback to us-central1 during a maintenance window. This involves promoting the us-central1 replica and then updating application configurations. This step is optional but often preferred to restore the original architecture.\n",
        "\n",
        "Post-Mortem and Review: Conduct a thorough review of the incident and recovery process to identify areas for improvement in our disaster recovery plan and automation.\n",
        "\n",
        "Result\n",
        "By implementing this plan, we achieve:\n",
        "\n",
        "Reduced Downtime: Quick failover to Berlin minimizes service interruption.\n",
        "\n",
        "Minimal Data Loss: Cloud SQL replicas and multi-region Cloud Storage ensure data is consistently replicated and available.\n",
        "\n",
        "Business Continuity: Critical services are restored, allowing us to continue operations.\n",
        "\n",
        "Improved Resilience: Our infrastructure is more robust against regional outages."
      ],
      "metadata": {
        "id": "SErlNODfZoSo"
      },
      "id": "SErlNODfZoSo"
    },
    {
      "cell_type": "markdown",
      "source": [
        "Here's the disaster recovery plan modified to your requested format:\n",
        "\n",
        "Primary Region: us-central1\n",
        "\n",
        "Backup Location: europe-west1 (Berlin)\n",
        "\n",
        "Failover Trigger: Cloud Monitoring alerts (high error rates, latency spikes, service unavailability) + Pub/Sub alert notification to on-call team + Manual confirmation of outage.\n",
        "\n",
        "Redundancy Services:\n",
        "\n",
        "Cloud SQL cross-region read replica with Point-in-Time Recovery enabled\n",
        "\n",
        "Multi-region Cloud Storage (EUROPE location)\n",
        "\n",
        "Cloud Monitoring for health checks and alerting\n",
        "\n",
        "Cloud DNS (for dynamic endpoint resolution)\n",
        "\n",
        "Global External Load Balancer (for application traffic redirection)\n",
        "\n",
        "Backup Schedule: Cloud SQL continuous replication to read replica. Cloud Storage data is inherently replicated across multiple regions due to multi-region bucket configuration."
      ],
      "metadata": {
        "id": "Obqkn74caGRV"
      },
      "id": "Obqkn74caGRV"
    }
  ],
  "metadata": {
    "colab": {
      "provenance": []
    }
  },
  "nbformat": 4,
  "nbformat_minor": 5
}